{
 "cells": [
  {
   "cell_type": "code",
   "execution_count": 4,
   "metadata": {},
   "outputs": [
    {
     "data": {
      "text/plain": [
       "tensor(0.0087)"
      ]
     },
     "execution_count": 4,
     "metadata": {},
     "output_type": "execute_result"
    }
   ],
   "source": [
    "import torch\n",
    "\n",
    "from safetensors.torch import load_file\n",
    "\n",
    "\n",
    "old, new = tuple(\n",
    "    load_file(\n",
    "        f\"./.art/models/temporal-clue-unsloth-001/{i:04d}/adapter_model.safetensors\"\n",
    "    )\n",
    "    for i in (1, 2)\n",
    ")\n",
    "\n",
    "max(torch.abs(n - o).max() for n, o in zip(new.values(), old.values()))"
   ]
  }
 ],
 "metadata": {
  "kernelspec": {
   "display_name": ".venv",
   "language": "python",
   "name": "python3"
  },
  "language_info": {
   "codemirror_mode": {
    "name": "ipython",
    "version": 3
   },
   "file_extension": ".py",
   "mimetype": "text/x-python",
   "name": "python",
   "nbconvert_exporter": "python",
   "pygments_lexer": "ipython3",
   "version": "3.12.9"
  }
 },
 "nbformat": 4,
 "nbformat_minor": 2
}
